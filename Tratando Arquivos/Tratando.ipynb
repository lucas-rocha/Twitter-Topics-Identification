{
 "cells": [
  {
   "cell_type": "code",
   "execution_count": 2,
   "metadata": {},
   "outputs": [],
   "source": [
    "file = open('data.txt', 'r')\n",
    "docs1 = open('docs1.txt', 'w+')\n",
    "docs2 = open('docs2.txt', 'w+')\n",
    "\n",
    "i = 0\n",
    "for line in file:\n",
    "    i = i + 1\n",
    "    if i <= 800000:\n",
    "        docs1.write(line)\n",
    "    else:\n",
    "        docs2.write(line)\n",
    "    \n",
    "file.close()\n",
    "docs1.close()\n",
    "docs2.close()"
   ]
  },
  {
   "cell_type": "code",
   "execution_count": 5,
   "metadata": {},
   "outputs": [],
   "source": [
    "file = open('data.txt', 'r')\n",
    "docs = open('docs.txt', 'w+')\n",
    "\n",
    "i = 0\n",
    "for line in file:\n",
    "    i = i + 1\n",
    "    if i == 50001:\n",
    "        break\n",
    "    \n",
    "    docs.write(line)\n",
    "\n",
    "    \n",
    "file.close()\n",
    "docs.close()"
   ]
  }
 ],
 "metadata": {
  "kernelspec": {
   "display_name": "Python 3",
   "language": "python",
   "name": "python3"
  },
  "language_info": {
   "codemirror_mode": {
    "name": "ipython",
    "version": 3
   },
   "file_extension": ".py",
   "mimetype": "text/x-python",
   "name": "python",
   "nbconvert_exporter": "python",
   "pygments_lexer": "ipython3",
   "version": "3.5.2"
  }
 },
 "nbformat": 4,
 "nbformat_minor": 2
}
